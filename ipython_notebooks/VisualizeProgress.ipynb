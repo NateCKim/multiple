{
  "metadata": {
    "kernelspec": {
      "name": "py-dku-venv-pokemon",
      "display_name": "Python (env pokemon)",
      "language": "python"
    },
    "hide_input": false,
    "modifiedBy": "nate.kim@dataiku.com",
    "createdOn": 1697748870530,
    "creator": "nate.kim@dataiku.com",
    "customFields": {},
    "tags": []
  },
  "nbformat": 4,
  "nbformat_minor": 4,
  "cells": [
    {
      "execution_count": 0,
      "cell_type": "code",
      "metadata": {},
      "source": [
        "import numpy as np\nimport matplotlib.pyplot as plt\nimport matplotlib.cm as mplcm\nimport matplotlib.colors as colors\nfrom einops import rearrange\nfrom PIL import Image\nf tqdm\nimport json\nimport time\nfrom pathlib import Path\nfrom sklearn import linear_model\nimport mediapy as media"
      ],
      "outputs": []
    },
    {
      "execution_count": 0,
      "cell_type": "code",
      "metadata": {
        "scrolled": false
      },
      "source": [
        "!ls -lt baselines"
      ],
      "outputs": []
    },
    {
      "execution_count": 0,
      "cell_type": "code",
      "metadata": {},
      "source": [
        "def load_run_data(run_path):\n    run_lists \u003d []\n    for p in Path(run_path).glob(\u0027all_runs_*.json\u0027):\n        with open(p, \u0027r\u0027) as f:\n            run_lists.append(json.load(f))\n    all_runs \u003d [val for tup in zip(*run_lists) for val in tup]\n    print(f\u0027runs loaded: {len(all_runs)}\u0027)\n    return all_runs"
      ],
      "outputs": []
    },
    {
      "execution_count": 0,
      "cell_type": "code",
      "metadata": {},
      "source": [
        "def plot_runs(\n    all_runs, use_keys\u003dNone, \n    plot_fit\u003dFalse, plot_line\u003dFalse, \n    start\u003d0, group_runs\u003d1,\n    agg_func\u003dnp.mean):\n    \n    all_runs \u003d all_runs[start:]\n    x \u003d np.arange(len(all_runs)//group_runs)\n    \n    def add_plot(y, name, alpha, size, plot_line, plot_fit):\n        plt.scatter(x, y, alpha\u003dalpha, s\u003dsize, label\u003dname)\n        if plot_line:\n            plt.plot(x, y, alpha\u003dalpha, label\u003dname)\n        if plot_fit:\n            regr \u003d linear_model.LinearRegression()\n            # Optimize linear model\n            regr.fit(x.reshape(-1, 1), y.reshape(-1, 1))\n\n            # Make predictions using the testing set\n            lin_y \u003d regr.predict(x.reshape(-1, 1))\n            plt.plot(x, lin_y, linewidth\u003d3)\n    \n    # convert list of dictionaries to dictionary of lists\n    metrics \u003d {m: [run[m] for run in all_runs] for m in all_runs[0].keys()}\n    metrics[\u0027total\u0027] \u003d [sum([v for _,v in run.items()]) for run in all_runs]\n    if group_runs:\n        for m, dat in metrics.items():\n            metrics[m] \u003d agg_func(np.array(dat).reshape(-1, group_runs), 1)\n    available_keys \u003d metrics.keys()\n    print(f\u0027available metrics: {list(available_keys)}\u0027)\n    if use_keys is None:\n        use_keys \u003d available_keys\n    \n    ## TODO subplot for each metric ## \n    NUM_COLORS \u003d len(use_keys)\n    cm \u003d plt.get_cmap(\u0027Dark2\u0027)\n    cNorm  \u003d colors.Normalize(vmin\u003d0, vmax\u003dNUM_COLORS-1)\n    scalarMap \u003d mplcm.ScalarMappable(norm\u003dcNorm, cmap\u003dcm)\n    fig \u003d plt.figure(figsize \u003d (12, 8))\n\n    ax \u003d fig.add_subplot(111)\n    ax.set_prop_cycle(color\u003d[scalarMap.to_rgba(i) for i in range(NUM_COLORS)])\n\n    for i, m in enumerate(use_keys):\n        add_plot(\n            np.array(metrics[m]), m, 1.0, 3.0, plot_line, plot_fit\n        )\n\n    plt.title(\u0027Reward over runs PPO\u0027)\n    plt.legend(bbox_to_anchor\u003d(1.04, 0.5), loc\u003d\"center left\", borderaxespad\u003d0)\n    plt.show()"
      ],
      "outputs": []
    },
    {
      "execution_count": 0,
      "cell_type": "code",
      "metadata": {},
      "source": [
        "def get_latest_grid(pth):\n    imgs \u003d np.array([np.array(Image.open(p)) for p in Path(pth).glob(\u0027curframe*.jpeg\u0027)])\n    grid \u003d rearrange(imgs, \u0027(h2 w2) h w c -\u003e (h2 h) (w2 w) c\u0027, w2\u003d4)\n    return grid"
      ],
      "outputs": []
    },
    {
      "execution_count": 0,
      "cell_type": "code",
      "metadata": {},
      "source": [
        "\u0027\u0027\u0027\nget_im_func \u003d lambda: get_latest_grid(\u0027baselines/session_d34118d3\u0027)\n\nwith media.VideoWriter(\u0027test_grid.mp4\u0027, get_im_func().shape[:2]) as wr:\n    for i in range(500):\n        #wr.add_image(get_im_func())\n        #time.sleep(1)\n\u0027\u0027\u0027        "
      ],
      "outputs": []
    },
    {
      "execution_count": 0,
      "cell_type": "code",
      "metadata": {
        "scrolled": false
      },
      "source": [
        "plt.figure(figsize \u003d (32, 32))\nplt.imshow(get_latest_grid(\u0027baselines/session_4da05e87\u0027))"
      ],
      "outputs": []
    },
    {
      "execution_count": 0,
      "cell_type": "code",
      "metadata": {},
      "source": [
        "(29556736 - 25952256) / (1024*16*44)"
      ],
      "outputs": []
    },
    {
      "execution_count": 0,
      "cell_type": "code",
      "metadata": {},
      "source": [
        "plot_runs(\n    load_run_data(\u0027baselines/session_4da05e87_main_full\u0027),\n    use_keys\u003dNone,\n    plot_line\u003dFalse,\n    plot_fit\u003dFalse,\n    start\u003d44*0,\n    group_runs\u003d44,\n    agg_func\u003dnp.mean\n)"
      ],
      "outputs": []
    },
    {
      "execution_count": 0,
      "cell_type": "code",
      "metadata": {
        "scrolled": false
      },
      "source": [
        "plot_runs(\n    load_run_data(\u0027baselines/session_e41c9eff\u0027),\n    use_keys\u003dNone,\n    plot_line\u003dFalse,\n    plot_fit\u003dFalse,\n    start\u003d0,\n    group_runs\u003d44,\n    agg_func\u003dnp.mean\n)"
      ],
      "outputs": []
    },
    {
      "execution_count": 0,
      "cell_type": "code",
      "metadata": {},
      "source": [
        "plot_runs(\n    load_run_data(\u0027baselines/session_812437f3_3k_explore\u0027),\n    use_keys\u003dNone,\n    plot_line\u003dFalse,\n    plot_fit\u003dFalse,\n    start\u003d0,\n    group_runs\u003d1,\n    agg_func\u003dnp.mean\n)"
      ],
      "outputs": []
    },
    {
      "execution_count": 0,
      "cell_type": "code",
      "metadata": {},
      "source": [
        "\nplot_runs(\n    load_run_data(\u0027baselines/session_82b536f8_makes_it_to_gym\u0027),\n    use_keys\u003d[\u0027explore\u0027],\n    plot_line\u003dFalse,\n    plot_fit\u003dFalse,\n    start\u003d0,\n    group_runs\u003d1,\n    agg_func\u003dnp.mean\n)\n"
      ],
      "outputs": []
    },
    {
      "execution_count": 0,
      "cell_type": "code",
      "metadata": {},
      "source": [
        "\nplot_runs(\n    load_run_data(\u0027baselines/session_bad50734\u0027),\n    use_keys\u003dNone,\n    plot_line\u003dFalse,\n    plot_fit\u003dFalse,\n    start\u003d0,\n    group_runs\u003d1,\n    agg_func\u003dnp.mean\n)\n"
      ],
      "outputs": []
    },
    {
      "execution_count": 0,
      "cell_type": "code",
      "metadata": {},
      "source": [
        ""
      ],
      "outputs": []
    },
    {
      "cell_type": "markdown",
      "metadata": {},
      "source": [
        "## generate moving histograms!"
      ]
    },
    {
      "execution_count": 0,
      "cell_type": "code",
      "metadata": {},
      "source": [
        "len(load_run_data(\u0027baselines/session_4da05e87_main_full\u0027))"
      ],
      "outputs": []
    },
    {
      "execution_count": 0,
      "cell_type": "code",
      "metadata": {},
      "source": [
        "def chunks(data, n):\n    n \u003d max(1, n)\n    return [data[i:i+n] for i in range(0, len(data), n)]"
      ],
      "outputs": []
    },
    {
      "execution_count": 0,
      "cell_type": "code",
      "metadata": {},
      "source": [
        "full_dat \u003d load_run_data(\u0027baselines/session_4da05e87_main_full\u0027)\nfor run in full_dat:\n    run[\"total\"] \u003d sum(value for value in run.values())\nfull_dat_chunks \u003d chunks(full_dat, 44)"
      ],
      "outputs": []
    },
    {
      "execution_count": 0,
      "cell_type": "code",
      "metadata": {},
      "source": [
        "full_dat[0]"
      ],
      "outputs": []
    },
    {
      "execution_count": 0,
      "cell_type": "code",
      "metadata": {},
      "source": [
        "def histo_plot(axis, stat, dat_chunks, version, compare_count):\n    \n    test_dat \u003d np.array([run[stat] for run in dat_chunks[version]])\n    # the histogram of the data\n    n, bins, patches \u003d axis.hist(test_dat, 10, density\u003dFalse, facecolor\u003d\"orange\", alpha\u003d0.95)\n    \n    for i in range(compare_count):\n        comp_version \u003d max(version - 1 - i, 0)\n        compare_dat \u003d np.array([run[stat] for run in dat_chunks[comp_version]])\n        n, bins, patches \u003d axis.hist(compare_dat, 10, density\u003dFalse, facecolor\u003d\"grey\", alpha\u003d0.2*0.25**i)\n\n    axis.set(xlabel\u003df\"{stat}\")\n    #axis.ylabel()\n    # only use this title over all plots\n    #axis.title()\n    #plt.xlim(40, 160)\n    #plt.ylim(0, 0.03)\n    #axis.grid(True)\n    #plt.show()"
      ],
      "outputs": []
    },
    {
      "execution_count": 0,
      "cell_type": "code",
      "metadata": {},
      "source": [
        "def plot_all(dat_chunks, version, compare_count):\n    fig, axs \u003d plt.subplots(2, 4, figsize\u003d(16, 9), dpi\u003d120)\n    #plt.subplots_adjust(bottom\u003d0.0, right\u003d0.8, top\u003d0.9)\n    fig.suptitle(f\"Version {version} Rewards\")\n    for stat, ax in zip(dat_chunks[0][0].keys(), axs.flatten()):\n        histo_plot(ax, stat, dat_chunks, version, compare_count)\n    return fig\n"
      ],
      "outputs": []
    },
    {
      "execution_count": 0,
      "cell_type": "code",
      "metadata": {},
      "source": [
        "plot_all(chunks(full_dat, 44), 10, 5)"
      ],
      "outputs": []
    },
    {
      "execution_count": 0,
      "cell_type": "code",
      "metadata": {},
      "source": [
        "#histo_plot(\"level\", )"
      ],
      "outputs": []
    },
    {
      "execution_count": 0,
      "cell_type": "code",
      "metadata": {},
      "source": [
        "with media.VideoWriter(\u0027histograms_over_time.mp4\u0027, (1080, 1920)) as wr:\n    for i in tqdm(range(610)):\n        #with plt.style.context(\u0027Solarize_Light2\u0027):\n        fig \u003d plot_all(full_dat_chunks, i, 5)\n\n        fig.canvas.draw()\n        #plt.show()\n        data \u003d np.frombuffer(fig.canvas.tostring_rgb(), dtype\u003dnp.uint8)\n        data \u003d data.reshape(fig.canvas.get_width_height()[::-1] + (3,))\n        wr.add_image(data)\n        plt.close()"
      ],
      "outputs": []
    },
    {
      "execution_count": 0,
      "cell_type": "code",
      "metadata": {},
      "source": [
        ""
      ],
      "outputs": []
    }
  ]
}
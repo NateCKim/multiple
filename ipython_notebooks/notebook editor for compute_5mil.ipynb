{
  "metadata": {
    "kernelspec": {
      "name": "py-dku-containerized-venv--eks-default",
      "display_name": "Python in eks-default (builtin env)",
      "language": "python"
    },
    "hide_input": false,
    "language_info": {
      "name": "python",
      "version": "3.9.16",
      "mimetype": "text/x-python",
      "codemirror_mode": {
        "name": "ipython",
        "version": 3
      },
      "pygments_lexer": "ipython3",
      "nbconvert_exporter": "python",
      "file_extension": ".py"
    },
    "creator": "nate.kim@dataiku.com",
    "associatedRecipe": "compute_5mil",
    "createdOn": 1697725989871,
    "tags": [
      "recipe-editor"
    ],
    "customFields": {},
    "modifiedBy": "nate.kim@dataiku.com"
  },
  "nbformat": 4,
  "nbformat_minor": 1,
  "cells": [
    {
      "execution_count": 0,
      "cell_type": "code",
      "metadata": {},
      "source": [
        "# -*- coding: utf-8 -*-\nimport dataiku\nimport pandas as pd, numpy as np\nfrom dataiku import pandasutils as pdu\n\n# Read recipe inputs\nv5m_Sales_Records \u003d dataiku.Dataset(\"5m_Sales_Records\")\nv5m_Sales_Records_df \u003d v5m_Sales_Records.get_dataframe()\n\n\n# Compute recipe outputs from inputs\n# TODO: Replace this part by your actual code that computes the output, as a Pandas dataframe\n# NB: DSS also supports other kinds of APIs for reading and writing data. Please see doc.\n\nv5mil_df \u003d v5m_Sales_Records_df # For this sample code, simply copy input to output\n\n\n# Write recipe outputs\nv5mil \u003d dataiku.Dataset(\"5mil\")\nv5mil.write_with_schema(v5mil_df)"
      ],
      "outputs": []
    }
  ]
}
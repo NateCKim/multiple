{
  "nbformat": 4,
  "nbformat_minor": 0,
  "metadata": {
    "kernelspec": {
      "display_name": "Python in eks-default (builtin env)",
      "language": "python",
      "name": "py-dku-containerized-venv--eks-default"
    },
    "associatedRecipe": "compute_5mil",
    "creator": "nate.kim@dataiku.com",
    "createdOn": 1697725989871,
    "tags": [
      "recipe-editor"
    ],
    "customFields": {}
  },
  "cells": [
    {
      "cell_type": "code",
      "metadata": {},
      "outputs": [],
      "execution_count": 0,
      "source": [
        "# -*- coding: utf-8 -*-\n",
        "import dataiku\n",
        "import pandas as pd, numpy as np\n",
        "from dataiku import pandasutils as pdu\n",
        "\n",
        "# Read recipe inputs\n",
        "v5m_Sales_Records \u003d dataiku.Dataset(\"5m_Sales_Records\")\n",
        "v5m_Sales_Records_df \u003d v5m_Sales_Records.get_dataframe()\n",
        "\n",
        "\n",
        "# Compute recipe outputs from inputs\n",
        "# TODO: Replace this part by your actual code that computes the output, as a Pandas dataframe\n",
        "# NB: DSS also supports other kinds of APIs for reading and writing data. Please see doc.\n",
        "\n",
        "v5mil_df \u003d v5m_Sales_Records_df # For this sample code, simply copy input to output\n",
        "\n",
        "\n",
        "# Write recipe outputs\n",
        "v5mil \u003d dataiku.Dataset(\"5mil\")\n",
        "v5mil.write_with_schema(v5mil_df)"
      ]
    }
  ]
}